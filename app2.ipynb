{
 "cells": [
  {
   "cell_type": "code",
   "execution_count": 1,
   "id": "af4c7492",
   "metadata": {},
   "outputs": [],
   "source": [
    "import streamlit as st\n",
    "import folium\n",
    "from streamlit_folium import st_folium\n",
    "import geopandas as gpd"
   ]
  },
  {
   "cell_type": "code",
   "execution_count": 2,
   "id": "1b74276d",
   "metadata": {},
   "outputs": [],
   "source": [
    "st.set_page_config(page_title=\"test\")"
   ]
  },
  {
   "cell_type": "code",
   "execution_count": 3,
   "id": "064a2eba",
   "metadata": {},
   "outputs": [
    {
     "name": "stderr",
     "output_type": "stream",
     "text": [
      "2023-10-30 22:57:47.655 \n",
      "  \u001b[33m\u001b[1mWarning:\u001b[0m to view this Streamlit app on a browser, run it with the following\n",
      "  command:\n",
      "\n",
      "    streamlit run D:\\Anaconda\\envs\\streamlit-env\\Lib\\site-packages\\ipykernel_launcher.py [ARGUMENTS]\n"
     ]
    }
   ],
   "source": [
    "# center on Liberty Bell, add marker\n",
    "m = folium.Map(location=[39.949610, -75.150282], zoom_start=16)\n",
    "folium.Marker(\n",
    "    [39.949610, -75.150282], popup=\"Liberty Bell\", tooltip=\"Liberty Bell\"\n",
    ").add_to(m)\n",
    "\n",
    "# call to render Folium map in Streamlit\n",
    "st_data = st_folium(m, width=725)"
   ]
  },
  {
   "cell_type": "code",
   "execution_count": 4,
   "id": "8165dd90",
   "metadata": {},
   "outputs": [
    {
     "data": {
      "text/plain": [
       "DeltaGenerator()"
      ]
     },
     "execution_count": 4,
     "metadata": {},
     "output_type": "execute_result"
    }
   ],
   "source": [
    "# create input text box and show it running live on page\n",
    "text_input1 = st.text_input(\"input 1\")\n",
    "st.markdown(\"Text entered is equal to: \" + text_input1)"
   ]
  },
  {
   "cell_type": "code",
   "execution_count": 5,
   "id": "09284c33",
   "metadata": {},
   "outputs": [
    {
     "data": {
      "text/plain": [
       "DeltaGenerator(_root_container=1, _parent=DeltaGenerator())"
      ]
     },
     "execution_count": 5,
     "metadata": {},
     "output_type": "execute_result"
    }
   ],
   "source": [
    "st.sidebar.header('sidebar header')"
   ]
  },
  {
   "cell_type": "code",
   "execution_count": 28,
   "id": "a694816e",
   "metadata": {},
   "outputs": [
    {
     "data": {
      "text/html": [
       "<div>\n",
       "<style scoped>\n",
       "    .dataframe tbody tr th:only-of-type {\n",
       "        vertical-align: middle;\n",
       "    }\n",
       "\n",
       "    .dataframe tbody tr th {\n",
       "        vertical-align: top;\n",
       "    }\n",
       "\n",
       "    .dataframe thead th {\n",
       "        text-align: right;\n",
       "    }\n",
       "</style>\n",
       "<table border=\"1\" class=\"dataframe\">\n",
       "  <thead>\n",
       "    <tr style=\"text-align: right;\">\n",
       "      <th></th>\n",
       "      <th>OBJECTID</th>\n",
       "      <th>DISTRICT</th>\n",
       "      <th>pop_total</th>\n",
       "      <th>Ideal_pop</th>\n",
       "      <th>Diff_Ideal</th>\n",
       "      <th>DDeviation</th>\n",
       "      <th>ODeviation</th>\n",
       "      <th>Shape_Leng</th>\n",
       "      <th>Shape_Area</th>\n",
       "      <th>geometry</th>\n",
       "    </tr>\n",
       "  </thead>\n",
       "  <tbody>\n",
       "    <tr>\n",
       "      <th>0</th>\n",
       "      <td>1</td>\n",
       "      <td>1</td>\n",
       "      <td>159498</td>\n",
       "      <td>163125.75</td>\n",
       "      <td>-3628</td>\n",
       "      <td>-2.223898</td>\n",
       "      <td>4.992467</td>\n",
       "      <td>116166.411384</td>\n",
       "      <td>1.949425e+08</td>\n",
       "      <td>MULTIPOLYGON (((-13643792.186 5694200.327, -13...</td>\n",
       "    </tr>\n",
       "    <tr>\n",
       "      <th>1</th>\n",
       "      <td>2</td>\n",
       "      <td>2</td>\n",
       "      <td>160716</td>\n",
       "      <td>163125.75</td>\n",
       "      <td>-2410</td>\n",
       "      <td>-1.477235</td>\n",
       "      <td>4.992467</td>\n",
       "      <td>75791.832027</td>\n",
       "      <td>2.200730e+08</td>\n",
       "      <td>POLYGON ((-13645282.485 5710542.700, -13645368...</td>\n",
       "    </tr>\n",
       "    <tr>\n",
       "      <th>2</th>\n",
       "      <td>3</td>\n",
       "      <td>3</td>\n",
       "      <td>167642</td>\n",
       "      <td>163125.75</td>\n",
       "      <td>4516</td>\n",
       "      <td>2.768570</td>\n",
       "      <td>4.992467</td>\n",
       "      <td>61241.450478</td>\n",
       "      <td>1.110003e+08</td>\n",
       "      <td>MULTIPOLYGON (((-13646156.395 5694639.792, -13...</td>\n",
       "    </tr>\n",
       "    <tr>\n",
       "      <th>3</th>\n",
       "      <td>4</td>\n",
       "      <td>4</td>\n",
       "      <td>164647</td>\n",
       "      <td>163125.75</td>\n",
       "      <td>1521</td>\n",
       "      <td>0.932563</td>\n",
       "      <td>4.992467</td>\n",
       "      <td>195082.516068</td>\n",
       "      <td>2.393099e+08</td>\n",
       "      <td>POLYGON ((-13649534.836 5694651.045, -13649535...</td>\n",
       "    </tr>\n",
       "  </tbody>\n",
       "</table>\n",
       "</div>"
      ],
      "text/plain": [
       "   OBJECTID DISTRICT  pop_total  Ideal_pop  Diff_Ideal  DDeviation  \\\n",
       "0         1        1     159498  163125.75       -3628   -2.223898   \n",
       "1         2        2     160716  163125.75       -2410   -1.477235   \n",
       "2         3        3     167642  163125.75        4516    2.768570   \n",
       "3         4        4     164647  163125.75        1521    0.932563   \n",
       "\n",
       "   ODeviation     Shape_Leng    Shape_Area  \\\n",
       "0    4.992467  116166.411384  1.949425e+08   \n",
       "1    4.992467   75791.832027  2.200730e+08   \n",
       "2    4.992467   61241.450478  1.110003e+08   \n",
       "3    4.992467  195082.516068  2.393099e+08   \n",
       "\n",
       "                                            geometry  \n",
       "0  MULTIPOLYGON (((-13643792.186 5694200.327, -13...  \n",
       "1  POLYGON ((-13645282.485 5710542.700, -13645368...  \n",
       "2  MULTIPOLYGON (((-13646156.395 5694639.792, -13...  \n",
       "3  POLYGON ((-13649534.836 5694651.045, -13649535...  "
      ]
     },
     "execution_count": 28,
     "metadata": {},
     "output_type": "execute_result"
    }
   ],
   "source": [
    "file = gpd.read_file(\"Portland_City_Council_Districts.shp\")\n",
    "file"
   ]
  },
  {
   "cell_type": "code",
   "execution_count": 40,
   "id": "e8ad2d69",
   "metadata": {},
   "outputs": [
    {
     "data": {
      "text/html": [
       "<div>\n",
       "<style scoped>\n",
       "    .dataframe tbody tr th:only-of-type {\n",
       "        vertical-align: middle;\n",
       "    }\n",
       "\n",
       "    .dataframe tbody tr th {\n",
       "        vertical-align: top;\n",
       "    }\n",
       "\n",
       "    .dataframe thead th {\n",
       "        text-align: right;\n",
       "    }\n",
       "</style>\n",
       "<table border=\"1\" class=\"dataframe\">\n",
       "  <thead>\n",
       "    <tr style=\"text-align: right;\">\n",
       "      <th></th>\n",
       "      <th>0</th>\n",
       "    </tr>\n",
       "  </thead>\n",
       "  <tbody>\n",
       "    <tr>\n",
       "      <th>0</th>\n",
       "      <td>POLYGON ((-13652676.044 5716737.464, -13652668...</td>\n",
       "    </tr>\n",
       "    <tr>\n",
       "      <th>1</th>\n",
       "      <td>POLYGON ((-13670111.363 5720350.631, -13670108...</td>\n",
       "    </tr>\n",
       "    <tr>\n",
       "      <th>2</th>\n",
       "      <td>POLYGON ((-13656268.152 5704395.010, -13656288...</td>\n",
       "    </tr>\n",
       "    <tr>\n",
       "      <th>3</th>\n",
       "      <td>POLYGON ((-13675105.183 5716631.974, -13675105...</td>\n",
       "    </tr>\n",
       "  </tbody>\n",
       "</table>\n",
       "</div>"
      ],
      "text/plain": [
       "                                                   0\n",
       "0  POLYGON ((-13652676.044 5716737.464, -13652668...\n",
       "1  POLYGON ((-13670111.363 5720350.631, -13670108...\n",
       "2  POLYGON ((-13656268.152 5704395.010, -13656288...\n",
       "3  POLYGON ((-13675105.183 5716631.974, -13675105..."
      ]
     },
     "execution_count": 40,
     "metadata": {},
     "output_type": "execute_result"
    }
   ],
   "source": [
    "file_buff = file.buffer(1000)\n",
    "file_buff_df = gpd.GeoDataFrame(file_buff)\n",
    "\n",
    "\n",
    "file_buff_df"
   ]
  },
  {
   "cell_type": "code",
   "execution_count": 33,
   "id": "897f5458",
   "metadata": {},
   "outputs": [
    {
     "data": {
      "text/plain": [
       "<folium.features.GeoJson at 0x22d3a2b8450>"
      ]
     },
     "execution_count": 33,
     "metadata": {},
     "output_type": "execute_result"
    }
   ],
   "source": [
    "folium.GeoJson(file[\"geometry\"]).add_to(m)"
   ]
  },
  {
   "cell_type": "code",
   "execution_count": 41,
   "id": "3d273b56",
   "metadata": {},
   "outputs": [],
   "source": [
    "file[\"buffered\"] = file.buffer(10000)"
   ]
  },
  {
   "cell_type": "code",
   "execution_count": 42,
   "id": "fef1fe6a",
   "metadata": {},
   "outputs": [
    {
     "data": {
      "text/html": [
       "<div>\n",
       "<style scoped>\n",
       "    .dataframe tbody tr th:only-of-type {\n",
       "        vertical-align: middle;\n",
       "    }\n",
       "\n",
       "    .dataframe tbody tr th {\n",
       "        vertical-align: top;\n",
       "    }\n",
       "\n",
       "    .dataframe thead th {\n",
       "        text-align: right;\n",
       "    }\n",
       "</style>\n",
       "<table border=\"1\" class=\"dataframe\">\n",
       "  <thead>\n",
       "    <tr style=\"text-align: right;\">\n",
       "      <th></th>\n",
       "      <th>OBJECTID</th>\n",
       "      <th>DISTRICT</th>\n",
       "      <th>pop_total</th>\n",
       "      <th>Ideal_pop</th>\n",
       "      <th>Diff_Ideal</th>\n",
       "      <th>DDeviation</th>\n",
       "      <th>ODeviation</th>\n",
       "      <th>Shape_Leng</th>\n",
       "      <th>Shape_Area</th>\n",
       "      <th>geometry</th>\n",
       "      <th>buffered</th>\n",
       "    </tr>\n",
       "  </thead>\n",
       "  <tbody>\n",
       "    <tr>\n",
       "      <th>0</th>\n",
       "      <td>1</td>\n",
       "      <td>1</td>\n",
       "      <td>159498</td>\n",
       "      <td>163125.75</td>\n",
       "      <td>-3628</td>\n",
       "      <td>-2.223898</td>\n",
       "      <td>4.992467</td>\n",
       "      <td>116166.411384</td>\n",
       "      <td>1.949425e+08</td>\n",
       "      <td>MULTIPOLYGON (((-13643792.186 5694200.327, -13...</td>\n",
       "      <td>POLYGON ((-13661686.137 5717014.184, -13661667...</td>\n",
       "    </tr>\n",
       "    <tr>\n",
       "      <th>1</th>\n",
       "      <td>2</td>\n",
       "      <td>2</td>\n",
       "      <td>160716</td>\n",
       "      <td>163125.75</td>\n",
       "      <td>-2410</td>\n",
       "      <td>-1.477235</td>\n",
       "      <td>4.992467</td>\n",
       "      <td>75791.832027</td>\n",
       "      <td>2.200730e+08</td>\n",
       "      <td>POLYGON ((-13645282.485 5710542.700, -13645368...</td>\n",
       "      <td>POLYGON ((-13678640.031 5723582.403, -13678496...</td>\n",
       "    </tr>\n",
       "    <tr>\n",
       "      <th>2</th>\n",
       "      <td>3</td>\n",
       "      <td>3</td>\n",
       "      <td>167642</td>\n",
       "      <td>163125.75</td>\n",
       "      <td>4516</td>\n",
       "      <td>2.768570</td>\n",
       "      <td>4.992467</td>\n",
       "      <td>61241.450478</td>\n",
       "      <td>1.110003e+08</td>\n",
       "      <td>MULTIPOLYGON (((-13646156.395 5694639.792, -13...</td>\n",
       "      <td>POLYGON ((-13665430.220 5704515.590, -13665451...</td>\n",
       "    </tr>\n",
       "    <tr>\n",
       "      <th>3</th>\n",
       "      <td>4</td>\n",
       "      <td>4</td>\n",
       "      <td>164647</td>\n",
       "      <td>163125.75</td>\n",
       "      <td>1521</td>\n",
       "      <td>0.932563</td>\n",
       "      <td>4.992467</td>\n",
       "      <td>195082.516068</td>\n",
       "      <td>2.393099e+08</td>\n",
       "      <td>POLYGON ((-13649534.836 5694651.045, -13649535...</td>\n",
       "      <td>POLYGON ((-13684104.213 5716764.614, -13684104...</td>\n",
       "    </tr>\n",
       "  </tbody>\n",
       "</table>\n",
       "</div>"
      ],
      "text/plain": [
       "   OBJECTID DISTRICT  pop_total  Ideal_pop  Diff_Ideal  DDeviation  \\\n",
       "0         1        1     159498  163125.75       -3628   -2.223898   \n",
       "1         2        2     160716  163125.75       -2410   -1.477235   \n",
       "2         3        3     167642  163125.75        4516    2.768570   \n",
       "3         4        4     164647  163125.75        1521    0.932563   \n",
       "\n",
       "   ODeviation     Shape_Leng    Shape_Area  \\\n",
       "0    4.992467  116166.411384  1.949425e+08   \n",
       "1    4.992467   75791.832027  2.200730e+08   \n",
       "2    4.992467   61241.450478  1.110003e+08   \n",
       "3    4.992467  195082.516068  2.393099e+08   \n",
       "\n",
       "                                            geometry  \\\n",
       "0  MULTIPOLYGON (((-13643792.186 5694200.327, -13...   \n",
       "1  POLYGON ((-13645282.485 5710542.700, -13645368...   \n",
       "2  MULTIPOLYGON (((-13646156.395 5694639.792, -13...   \n",
       "3  POLYGON ((-13649534.836 5694651.045, -13649535...   \n",
       "\n",
       "                                            buffered  \n",
       "0  POLYGON ((-13661686.137 5717014.184, -13661667...  \n",
       "1  POLYGON ((-13678640.031 5723582.403, -13678496...  \n",
       "2  POLYGON ((-13665430.220 5704515.590, -13665451...  \n",
       "3  POLYGON ((-13684104.213 5716764.614, -13684104...  "
      ]
     },
     "execution_count": 42,
     "metadata": {},
     "output_type": "execute_result"
    }
   ],
   "source": [
    "file"
   ]
  },
  {
   "cell_type": "code",
   "execution_count": 45,
   "id": "34024f9b",
   "metadata": {},
   "outputs": [],
   "source": [
    "df2 = file.set_geometry(\"buffered\")"
   ]
  },
  {
   "cell_type": "code",
   "execution_count": 46,
   "id": "32aea474",
   "metadata": {},
   "outputs": [
    {
     "data": {
      "text/html": [
       "<div>\n",
       "<style scoped>\n",
       "    .dataframe tbody tr th:only-of-type {\n",
       "        vertical-align: middle;\n",
       "    }\n",
       "\n",
       "    .dataframe tbody tr th {\n",
       "        vertical-align: top;\n",
       "    }\n",
       "\n",
       "    .dataframe thead th {\n",
       "        text-align: right;\n",
       "    }\n",
       "</style>\n",
       "<table border=\"1\" class=\"dataframe\">\n",
       "  <thead>\n",
       "    <tr style=\"text-align: right;\">\n",
       "      <th></th>\n",
       "      <th>OBJECTID</th>\n",
       "      <th>DISTRICT</th>\n",
       "      <th>pop_total</th>\n",
       "      <th>Ideal_pop</th>\n",
       "      <th>Diff_Ideal</th>\n",
       "      <th>DDeviation</th>\n",
       "      <th>ODeviation</th>\n",
       "      <th>Shape_Leng</th>\n",
       "      <th>Shape_Area</th>\n",
       "      <th>geometry</th>\n",
       "      <th>buffered</th>\n",
       "    </tr>\n",
       "  </thead>\n",
       "  <tbody>\n",
       "    <tr>\n",
       "      <th>0</th>\n",
       "      <td>1</td>\n",
       "      <td>1</td>\n",
       "      <td>159498</td>\n",
       "      <td>163125.75</td>\n",
       "      <td>-3628</td>\n",
       "      <td>-2.223898</td>\n",
       "      <td>4.992467</td>\n",
       "      <td>116166.411384</td>\n",
       "      <td>1.949425e+08</td>\n",
       "      <td>MULTIPOLYGON (((-13643792.186 5694200.327, -13...</td>\n",
       "      <td>POLYGON ((-13661686.137 5717014.184, -13661667...</td>\n",
       "    </tr>\n",
       "    <tr>\n",
       "      <th>1</th>\n",
       "      <td>2</td>\n",
       "      <td>2</td>\n",
       "      <td>160716</td>\n",
       "      <td>163125.75</td>\n",
       "      <td>-2410</td>\n",
       "      <td>-1.477235</td>\n",
       "      <td>4.992467</td>\n",
       "      <td>75791.832027</td>\n",
       "      <td>2.200730e+08</td>\n",
       "      <td>POLYGON ((-13645282.485 5710542.700, -13645368...</td>\n",
       "      <td>POLYGON ((-13678640.031 5723582.403, -13678496...</td>\n",
       "    </tr>\n",
       "    <tr>\n",
       "      <th>2</th>\n",
       "      <td>3</td>\n",
       "      <td>3</td>\n",
       "      <td>167642</td>\n",
       "      <td>163125.75</td>\n",
       "      <td>4516</td>\n",
       "      <td>2.768570</td>\n",
       "      <td>4.992467</td>\n",
       "      <td>61241.450478</td>\n",
       "      <td>1.110003e+08</td>\n",
       "      <td>MULTIPOLYGON (((-13646156.395 5694639.792, -13...</td>\n",
       "      <td>POLYGON ((-13665430.220 5704515.590, -13665451...</td>\n",
       "    </tr>\n",
       "    <tr>\n",
       "      <th>3</th>\n",
       "      <td>4</td>\n",
       "      <td>4</td>\n",
       "      <td>164647</td>\n",
       "      <td>163125.75</td>\n",
       "      <td>1521</td>\n",
       "      <td>0.932563</td>\n",
       "      <td>4.992467</td>\n",
       "      <td>195082.516068</td>\n",
       "      <td>2.393099e+08</td>\n",
       "      <td>POLYGON ((-13649534.836 5694651.045, -13649535...</td>\n",
       "      <td>POLYGON ((-13684104.213 5716764.614, -13684104...</td>\n",
       "    </tr>\n",
       "  </tbody>\n",
       "</table>\n",
       "</div>"
      ],
      "text/plain": [
       "   OBJECTID DISTRICT  pop_total  Ideal_pop  Diff_Ideal  DDeviation  \\\n",
       "0         1        1     159498  163125.75       -3628   -2.223898   \n",
       "1         2        2     160716  163125.75       -2410   -1.477235   \n",
       "2         3        3     167642  163125.75        4516    2.768570   \n",
       "3         4        4     164647  163125.75        1521    0.932563   \n",
       "\n",
       "   ODeviation     Shape_Leng    Shape_Area  \\\n",
       "0    4.992467  116166.411384  1.949425e+08   \n",
       "1    4.992467   75791.832027  2.200730e+08   \n",
       "2    4.992467   61241.450478  1.110003e+08   \n",
       "3    4.992467  195082.516068  2.393099e+08   \n",
       "\n",
       "                                            geometry  \\\n",
       "0  MULTIPOLYGON (((-13643792.186 5694200.327, -13...   \n",
       "1  POLYGON ((-13645282.485 5710542.700, -13645368...   \n",
       "2  MULTIPOLYGON (((-13646156.395 5694639.792, -13...   \n",
       "3  POLYGON ((-13649534.836 5694651.045, -13649535...   \n",
       "\n",
       "                                            buffered  \n",
       "0  POLYGON ((-13661686.137 5717014.184, -13661667...  \n",
       "1  POLYGON ((-13678640.031 5723582.403, -13678496...  \n",
       "2  POLYGON ((-13665430.220 5704515.590, -13665451...  \n",
       "3  POLYGON ((-13684104.213 5716764.614, -13684104...  "
      ]
     },
     "execution_count": 46,
     "metadata": {},
     "output_type": "execute_result"
    }
   ],
   "source": [
    "df2"
   ]
  },
  {
   "cell_type": "code",
   "execution_count": 47,
   "id": "ca0e451a",
   "metadata": {},
   "outputs": [
    {
     "ename": "TypeError",
     "evalue": "ufunc 'buffer' not supported for the input types, and the inputs could not be safely coerced to any supported types according to the casting rule ''safe''",
     "output_type": "error",
     "traceback": [
      "\u001b[1;31m---------------------------------------------------------------------------\u001b[0m",
      "\u001b[1;31mTypeError\u001b[0m                                 Traceback (most recent call last)",
      "Cell \u001b[1;32mIn[47], line 7\u001b[0m\n\u001b[0;32m      5\u001b[0m \u001b[38;5;66;03m# use Geopandas to buffer input\u001b[39;00m\n\u001b[0;32m      6\u001b[0m file \u001b[38;5;241m=\u001b[39m gpd\u001b[38;5;241m.\u001b[39mread_file(\u001b[38;5;124m\"\u001b[39m\u001b[38;5;124mPortland_City_Council_Districts.shp\u001b[39m\u001b[38;5;124m\"\u001b[39m)\n\u001b[1;32m----> 7\u001b[0m file[\u001b[38;5;124m\"\u001b[39m\u001b[38;5;124mbuffered\u001b[39m\u001b[38;5;124m\"\u001b[39m] \u001b[38;5;241m=\u001b[39m file\u001b[38;5;241m.\u001b[39mbuffer(text_input1)\n\u001b[0;32m      8\u001b[0m df2 \u001b[38;5;241m=\u001b[39m file\u001b[38;5;241m.\u001b[39mset_geometry(\u001b[38;5;124m\"\u001b[39m\u001b[38;5;124mbuffered\u001b[39m\u001b[38;5;124m\"\u001b[39m)\n",
      "File \u001b[1;32mD:\\Anaconda\\envs\\streamlit-env\\Lib\\site-packages\\geopandas\\base.py:3634\u001b[0m, in \u001b[0;36mGeoPandasBase.buffer\u001b[1;34m(self, distance, resolution, **kwargs)\u001b[0m\n\u001b[0;32m   3628\u001b[0m         \u001b[38;5;28;01mraise\u001b[39;00m \u001b[38;5;167;01mValueError\u001b[39;00m(\n\u001b[0;32m   3629\u001b[0m             \u001b[38;5;124m\"\u001b[39m\u001b[38;5;124mIndex values of distance sequence does \u001b[39m\u001b[38;5;124m\"\u001b[39m\n\u001b[0;32m   3630\u001b[0m             \u001b[38;5;124m\"\u001b[39m\u001b[38;5;124mnot match index values of the GeoSeries\u001b[39m\u001b[38;5;124m\"\u001b[39m\n\u001b[0;32m   3631\u001b[0m         )\n\u001b[0;32m   3632\u001b[0m     distance \u001b[38;5;241m=\u001b[39m np\u001b[38;5;241m.\u001b[39masarray(distance)\n\u001b[1;32m-> 3634\u001b[0m \u001b[38;5;28;01mreturn\u001b[39;00m _delegate_geo_method(\n\u001b[0;32m   3635\u001b[0m     \u001b[38;5;124m\"\u001b[39m\u001b[38;5;124mbuffer\u001b[39m\u001b[38;5;124m\"\u001b[39m, \u001b[38;5;28mself\u001b[39m, distance, resolution\u001b[38;5;241m=\u001b[39mresolution, \u001b[38;5;241m*\u001b[39m\u001b[38;5;241m*\u001b[39mkwargs\n\u001b[0;32m   3636\u001b[0m )\n",
      "File \u001b[1;32mD:\\Anaconda\\envs\\streamlit-env\\Lib\\site-packages\\geopandas\\base.py:85\u001b[0m, in \u001b[0;36m_delegate_geo_method\u001b[1;34m(op, this, *args, **kwargs)\u001b[0m\n\u001b[0;32m     82\u001b[0m \u001b[38;5;28;01mfrom\u001b[39;00m \u001b[38;5;21;01m.\u001b[39;00m\u001b[38;5;21;01mgeoseries\u001b[39;00m \u001b[38;5;28;01mimport\u001b[39;00m GeoSeries\n\u001b[0;32m     84\u001b[0m a_this \u001b[38;5;241m=\u001b[39m GeometryArray(this\u001b[38;5;241m.\u001b[39mgeometry\u001b[38;5;241m.\u001b[39mvalues)\n\u001b[1;32m---> 85\u001b[0m data \u001b[38;5;241m=\u001b[39m \u001b[38;5;28mgetattr\u001b[39m(a_this, op)(\u001b[38;5;241m*\u001b[39margs, \u001b[38;5;241m*\u001b[39m\u001b[38;5;241m*\u001b[39mkwargs)\n\u001b[0;32m     86\u001b[0m \u001b[38;5;28;01mreturn\u001b[39;00m GeoSeries(data, index\u001b[38;5;241m=\u001b[39mthis\u001b[38;5;241m.\u001b[39mindex, crs\u001b[38;5;241m=\u001b[39mthis\u001b[38;5;241m.\u001b[39mcrs)\n",
      "File \u001b[1;32mD:\\Anaconda\\envs\\streamlit-env\\Lib\\site-packages\\geopandas\\array.py:707\u001b[0m, in \u001b[0;36mGeometryArray.buffer\u001b[1;34m(self, distance, resolution, **kwargs)\u001b[0m\n\u001b[0;32m    704\u001b[0m \u001b[38;5;28;01mif\u001b[39;00m \u001b[38;5;129;01mnot\u001b[39;00m (\u001b[38;5;28misinstance\u001b[39m(distance, (\u001b[38;5;28mint\u001b[39m, \u001b[38;5;28mfloat\u001b[39m)) \u001b[38;5;129;01mand\u001b[39;00m distance \u001b[38;5;241m==\u001b[39m \u001b[38;5;241m0\u001b[39m):\n\u001b[0;32m    705\u001b[0m     \u001b[38;5;28mself\u001b[39m\u001b[38;5;241m.\u001b[39mcheck_geographic_crs(stacklevel\u001b[38;5;241m=\u001b[39m\u001b[38;5;241m5\u001b[39m)\n\u001b[0;32m    706\u001b[0m \u001b[38;5;28;01mreturn\u001b[39;00m GeometryArray(\n\u001b[1;32m--> 707\u001b[0m     vectorized\u001b[38;5;241m.\u001b[39mbuffer(\u001b[38;5;28mself\u001b[39m\u001b[38;5;241m.\u001b[39m_data, distance, resolution\u001b[38;5;241m=\u001b[39mresolution, \u001b[38;5;241m*\u001b[39m\u001b[38;5;241m*\u001b[39mkwargs),\n\u001b[0;32m    708\u001b[0m     crs\u001b[38;5;241m=\u001b[39m\u001b[38;5;28mself\u001b[39m\u001b[38;5;241m.\u001b[39mcrs,\n\u001b[0;32m    709\u001b[0m )\n",
      "File \u001b[1;32mD:\\Anaconda\\envs\\streamlit-env\\Lib\\site-packages\\geopandas\\_vectorized.py:1020\u001b[0m, in \u001b[0;36mbuffer\u001b[1;34m(data, distance, resolution, **kwargs)\u001b[0m\n\u001b[0;32m   1018\u001b[0m \u001b[38;5;28;01mif\u001b[39;00m compat\u001b[38;5;241m.\u001b[39mUSE_SHAPELY_20:\n\u001b[0;32m   1019\u001b[0m     \u001b[38;5;28;01mif\u001b[39;00m compat\u001b[38;5;241m.\u001b[39mSHAPELY_G_20a1:\n\u001b[1;32m-> 1020\u001b[0m         \u001b[38;5;28;01mreturn\u001b[39;00m shapely\u001b[38;5;241m.\u001b[39mbuffer(data, distance, quad_segs\u001b[38;5;241m=\u001b[39mresolution, \u001b[38;5;241m*\u001b[39m\u001b[38;5;241m*\u001b[39mkwargs)\n\u001b[0;32m   1021\u001b[0m     \u001b[38;5;28;01melse\u001b[39;00m:\n\u001b[0;32m   1022\u001b[0m         \u001b[38;5;66;03m# TODO: temporary keep this (so geopandas works with latest released\u001b[39;00m\n\u001b[0;32m   1023\u001b[0m         \u001b[38;5;66;03m# shapely, currently alpha1) until shapely beta1 is out\u001b[39;00m\n\u001b[0;32m   1024\u001b[0m         \u001b[38;5;28;01mreturn\u001b[39;00m shapely\u001b[38;5;241m.\u001b[39mbuffer(data, distance, quadsegs\u001b[38;5;241m=\u001b[39mresolution, \u001b[38;5;241m*\u001b[39m\u001b[38;5;241m*\u001b[39mkwargs)\n",
      "File \u001b[1;32mD:\\Anaconda\\envs\\streamlit-env\\Lib\\site-packages\\shapely\\decorators.py:77\u001b[0m, in \u001b[0;36mmultithreading_enabled.<locals>.wrapped\u001b[1;34m(*args, **kwargs)\u001b[0m\n\u001b[0;32m     75\u001b[0m     \u001b[38;5;28;01mfor\u001b[39;00m arr \u001b[38;5;129;01min\u001b[39;00m array_args:\n\u001b[0;32m     76\u001b[0m         arr\u001b[38;5;241m.\u001b[39mflags\u001b[38;5;241m.\u001b[39mwriteable \u001b[38;5;241m=\u001b[39m \u001b[38;5;28;01mFalse\u001b[39;00m\n\u001b[1;32m---> 77\u001b[0m     \u001b[38;5;28;01mreturn\u001b[39;00m func(\u001b[38;5;241m*\u001b[39margs, \u001b[38;5;241m*\u001b[39m\u001b[38;5;241m*\u001b[39mkwargs)\n\u001b[0;32m     78\u001b[0m \u001b[38;5;28;01mfinally\u001b[39;00m:\n\u001b[0;32m     79\u001b[0m     \u001b[38;5;28;01mfor\u001b[39;00m arr, old_flag \u001b[38;5;129;01min\u001b[39;00m \u001b[38;5;28mzip\u001b[39m(array_args, old_flags):\n",
      "File \u001b[1;32mD:\\Anaconda\\envs\\streamlit-env\\Lib\\site-packages\\shapely\\constructive.py:180\u001b[0m, in \u001b[0;36mbuffer\u001b[1;34m(geometry, distance, quad_segs, cap_style, join_style, mitre_limit, single_sided, **kwargs)\u001b[0m\n\u001b[0;32m    178\u001b[0m \u001b[38;5;28;01mif\u001b[39;00m \u001b[38;5;129;01mnot\u001b[39;00m np\u001b[38;5;241m.\u001b[39misscalar(single_sided):\n\u001b[0;32m    179\u001b[0m     \u001b[38;5;28;01mraise\u001b[39;00m \u001b[38;5;167;01mTypeError\u001b[39;00m(\u001b[38;5;124m\"\u001b[39m\u001b[38;5;124msingle_sided only accepts scalar values\u001b[39m\u001b[38;5;124m\"\u001b[39m)\n\u001b[1;32m--> 180\u001b[0m \u001b[38;5;28;01mreturn\u001b[39;00m lib\u001b[38;5;241m.\u001b[39mbuffer(\n\u001b[0;32m    181\u001b[0m     geometry,\n\u001b[0;32m    182\u001b[0m     distance,\n\u001b[0;32m    183\u001b[0m     np\u001b[38;5;241m.\u001b[39mintc(quad_segs),\n\u001b[0;32m    184\u001b[0m     np\u001b[38;5;241m.\u001b[39mintc(cap_style),\n\u001b[0;32m    185\u001b[0m     np\u001b[38;5;241m.\u001b[39mintc(join_style),\n\u001b[0;32m    186\u001b[0m     mitre_limit,\n\u001b[0;32m    187\u001b[0m     np\u001b[38;5;241m.\u001b[39mbool_(single_sided),\n\u001b[0;32m    188\u001b[0m     \u001b[38;5;241m*\u001b[39m\u001b[38;5;241m*\u001b[39mkwargs\n\u001b[0;32m    189\u001b[0m )\n",
      "\u001b[1;31mTypeError\u001b[0m: ufunc 'buffer' not supported for the input types, and the inputs could not be safely coerced to any supported types according to the casting rule ''safe''"
     ]
    }
   ],
   "source": [
    "# create input text box and show it running live on page\n",
    "text_input1 = st.text_input(\"input 1\")\n",
    "st.markdown(\"Text entered is equal to: \" + text_input1)\n",
    "\n",
    "# use Geopandas to buffer input\n",
    "file = gpd.read_file(\"Portland_City_Council_Districts.shp\")\n",
    "file[\"buffered\"] = file.buffer(text_input1)\n",
    "df2 = file.set_geometry(\"buffered\")"
   ]
  },
  {
   "cell_type": "code",
   "execution_count": 62,
   "id": "95fb429a",
   "metadata": {},
   "outputs": [],
   "source": [
    "number = st.number_input('Insert a number')\n",
    "st.write('The current number is ', number)"
   ]
  },
  {
   "cell_type": "code",
   "execution_count": 58,
   "id": "d054495f",
   "metadata": {},
   "outputs": [
    {
     "ename": "ValueError",
     "evalue": "could not convert string to float: ''",
     "output_type": "error",
     "traceback": [
      "\u001b[1;31m---------------------------------------------------------------------------\u001b[0m",
      "\u001b[1;31mValueError\u001b[0m                                Traceback (most recent call last)",
      "Cell \u001b[1;32mIn[58], line 1\u001b[0m\n\u001b[1;32m----> 1\u001b[0m \u001b[38;5;28mint\u001b[39m(\u001b[38;5;28mfloat\u001b[39m(text_input1))\n",
      "\u001b[1;31mValueError\u001b[0m: could not convert string to float: ''"
     ]
    }
   ],
   "source": [
    "int(float(text_input1))\n"
   ]
  },
  {
   "cell_type": "code",
   "execution_count": 72,
   "id": "642f7cba",
   "metadata": {},
   "outputs": [],
   "source": [
    "file = st.file_uploader(label='label')"
   ]
  },
  {
   "cell_type": "code",
   "execution_count": 73,
   "id": "20273ecf",
   "metadata": {},
   "outputs": [
    {
     "ename": "AttributeError",
     "evalue": "'NoneType' object has no attribute 'upload_url'",
     "output_type": "error",
     "traceback": [
      "\u001b[1;31m---------------------------------------------------------------------------\u001b[0m",
      "\u001b[1;31mAttributeError\u001b[0m                            Traceback (most recent call last)",
      "Cell \u001b[1;32mIn[73], line 1\u001b[0m\n\u001b[1;32m----> 1\u001b[0m file\u001b[38;5;241m.\u001b[39mupload_url\n",
      "\u001b[1;31mAttributeError\u001b[0m: 'NoneType' object has no attribute 'upload_url'"
     ]
    }
   ],
   "source": [
    "file.upload_url"
   ]
  },
  {
   "cell_type": "code",
   "execution_count": 69,
   "id": "c4eb7c5f",
   "metadata": {},
   "outputs": [
    {
     "ename": "TypeError",
     "evalue": "FileUploaderMixin.file_uploader() missing 1 required positional argument: 'label'",
     "output_type": "error",
     "traceback": [
      "\u001b[1;31m---------------------------------------------------------------------------\u001b[0m",
      "\u001b[1;31mTypeError\u001b[0m                                 Traceback (most recent call last)",
      "Cell \u001b[1;32mIn[69], line 1\u001b[0m\n\u001b[1;32m----> 1\u001b[0m \u001b[38;5;28mtype\u001b[39m(st\u001b[38;5;241m.\u001b[39mfile_uploader())\n",
      "File \u001b[1;32mD:\\Anaconda\\envs\\streamlit-env\\Lib\\site-packages\\streamlit\\runtime\\metrics_util.py:396\u001b[0m, in \u001b[0;36mgather_metrics.<locals>.wrapped_func\u001b[1;34m(*args, **kwargs)\u001b[0m\n\u001b[0;32m    394\u001b[0m         _LOGGER\u001b[38;5;241m.\u001b[39mdebug(\u001b[38;5;124m\"\u001b[39m\u001b[38;5;124mFailed to collect command telemetry\u001b[39m\u001b[38;5;124m\"\u001b[39m, exc_info\u001b[38;5;241m=\u001b[39mex)\n\u001b[0;32m    395\u001b[0m \u001b[38;5;28;01mtry\u001b[39;00m:\n\u001b[1;32m--> 396\u001b[0m     result \u001b[38;5;241m=\u001b[39m non_optional_func(\u001b[38;5;241m*\u001b[39margs, \u001b[38;5;241m*\u001b[39m\u001b[38;5;241m*\u001b[39mkwargs)\n\u001b[0;32m    397\u001b[0m \u001b[38;5;28;01mexcept\u001b[39;00m RerunException \u001b[38;5;28;01mas\u001b[39;00m ex:\n\u001b[0;32m    398\u001b[0m     \u001b[38;5;66;03m# Duplicated from below, because static analysis tools get confused\u001b[39;00m\n\u001b[0;32m    399\u001b[0m     \u001b[38;5;66;03m# by deferring the rethrow.\u001b[39;00m\n\u001b[0;32m    400\u001b[0m     \u001b[38;5;28;01mif\u001b[39;00m tracking_activated \u001b[38;5;129;01mand\u001b[39;00m command_telemetry:\n",
      "\u001b[1;31mTypeError\u001b[0m: FileUploaderMixin.file_uploader() missing 1 required positional argument: 'label'"
     ]
    }
   ],
   "source": [
    "type(st.file_uploader())"
   ]
  },
  {
   "cell_type": "code",
   "execution_count": null,
   "id": "d0e93a84",
   "metadata": {},
   "outputs": [],
   "source": []
  }
 ],
 "metadata": {
  "kernelspec": {
   "display_name": "Python 3 (ipykernel)",
   "language": "python",
   "name": "python3"
  },
  "language_info": {
   "codemirror_mode": {
    "name": "ipython",
    "version": 3
   },
   "file_extension": ".py",
   "mimetype": "text/x-python",
   "name": "python",
   "nbconvert_exporter": "python",
   "pygments_lexer": "ipython3",
   "version": "3.11.5"
  }
 },
 "nbformat": 4,
 "nbformat_minor": 5
}
