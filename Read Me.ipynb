{
 "cells": [
  {
   "cell_type": "markdown",
   "id": "db9d732d",
   "metadata": {},
   "source": [
    "#### Step 1 - Create new python environment using Anaconda Navigator\n",
    "\n",
    "#### Step 2 - Click on the play button, open the terminal and install using pip install streamlit\n",
    "\n",
    "Do not install it through a Notebook\n",
    "\n",
    "Good video based on earlier trouble - https://www.youtube.com/watch?v=h4jxMB7ZEFE"
   ]
  },
  {
   "cell_type": "markdown",
   "id": "e4065f7a",
   "metadata": {},
   "source": [
    "# Install Streamlit- Folium\n",
    "\n",
    "#### As above and use pip install streamlit-folium"
   ]
  },
  {
   "cell_type": "markdown",
   "id": "a8e78b1d",
   "metadata": {},
   "source": [
    "# Streamlit Install Instructions"
   ]
  },
  {
   "cell_type": "markdown",
   "id": "3f7c91a1",
   "metadata": {},
   "source": [
    "# Run example App"
   ]
  },
  {
   "cell_type": "markdown",
   "id": "3cc65392",
   "metadata": {},
   "source": [
    "#### Step 1 - Create a blank txt file but rename to app.py\n",
    "#### Step 2 - type in teh following code\n",
    "\n",
    "import streamlit as st\n",
    "\n",
    "st.set_page_config(page_title=\"my webpage\")\n",
    "\n",
    "st.subheader(\"subheader\")\n",
    "\n",
    "#### Step 3 - Go to environment via Anaconda Navigator, click on play button, open terminal and chnage directory (cd) to the location of the app.py file\n",
    "\n",
    "#### Step 4 - Run the following code int eh command line - streamlit run app.py\n",
    "\n",
    "it should then open your app in a browser windor or provide you a link to do so"
   ]
  },
  {
   "cell_type": "markdown",
   "id": "1ad6397e",
   "metadata": {},
   "source": [
    "# How to work with Streamlit in Jupyter"
   ]
  },
  {
   "cell_type": "markdown",
   "id": "d1ec6120",
   "metadata": {},
   "source": [
    "#### Doesn't look like you can create a Streamlit app using a notebook becuase it needs to be a .py file\n",
    "#### Although this is a nice workaround\n",
    "\n",
    "##### Open Anaconda Navigator as normal, and choose correct environment\n",
    "##### Run latest .py app file through terminal, by cliking on play button, open in terminal, cd to directory and run streamlit run app_name.py\n",
    "##### Use Jupyter to create app. Will recognise methods etc and will detail issues when run even though it wont display output\n",
    "##### Have the app_name.py file open in another browser window beside it, and simply copy and past code into it when ready to try\n",
    "##### Refresh teh browser screen and the app will update in the window\n",
    "\n",
    "Extra steps but can still develop within Jupyter Notebook"
   ]
  },
  {
   "cell_type": "code",
   "execution_count": null,
   "id": "b6d158b7",
   "metadata": {},
   "outputs": [],
   "source": []
  }
 ],
 "metadata": {
  "kernelspec": {
   "display_name": "Python 3 (ipykernel)",
   "language": "python",
   "name": "python3"
  },
  "language_info": {
   "codemirror_mode": {
    "name": "ipython",
    "version": 3
   },
   "file_extension": ".py",
   "mimetype": "text/x-python",
   "name": "python",
   "nbconvert_exporter": "python",
   "pygments_lexer": "ipython3",
   "version": "3.11.5"
  }
 },
 "nbformat": 4,
 "nbformat_minor": 5
}
